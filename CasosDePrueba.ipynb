{
 "cells": [
  {
   "cell_type": "code",
   "execution_count": 4,
   "metadata": {
    "collapsed": false
   },
   "outputs": [
    {
     "name": "stdout",
     "output_type": "stream",
     "text": [
      " 1. True\n",
      "2. True\n",
      "3. False\n",
      "4. False\n",
      "5. False\n",
      "6. False\n",
      "7. True\n",
      "8. False\n",
      "9. True\n",
      "10. False\n",
      "11. 11\n",
      "12. 5/6 = 0.833333333333\n",
      "13. 2\n",
      "14. 7/20 = 0.35\n",
      "15. 5/7 = 0.714285714286\n",
      "16. 1/8 = 0.125\n",
      "17. 2\n",
      "18. 2\n",
      "19. 4/5 = 0.8\n"
     ]
    }
   ],
   "source": [
    "from FuncionesPrincipales import isZ, isQ, isF\n",
    "from Expresion import simplify\n",
    "\n",
    "print '1.', isZ('-6') #True\n",
    "print '2.', isZ('5') #True\n",
    "print '3.', isZ('5.2') #False\n",
    "print '4.', isZ('5/2') #False\n",
    "print '5.', isF('5.2') #False\n",
    "print '6.', isF('5') #False\n",
    "print '7.', isF('5/2') #True\n",
    "print '8.', isQ('5') #False\n",
    "print '9.', isQ('-5.2') #True\n",
    "print '10.', isQ('5/2') #False\n",
    "print '11.', simplify('5+6') #'11'\n",
    "print '12.', simplify('5/6') #'5/6'\n",
    "print '13.', simplify('12/6') #'2'\n",
    "print '14.', simplify('0.5*0.7') #'0.35'\n",
    "print '15.', simplify('0.5/0.7') #'5/7'\n",
    "print '16.', simplify('0.5**3') #'0.125'\n",
    "print '17.', simplify('1.55+0.45') #'2'\n",
    "print '18.', simplify('1/2 + 3/2') #'2'\n",
    "print '19.', simplify('0.4+2/5') #'4/5'\n",
    "#print '20.', simplify('(2/3)**2') #'4/9' Tiene PARENTESIS, aun no hay solucion para los parentesis"
   ]
  },
  {
   "cell_type": "code",
   "execution_count": null,
   "metadata": {
    "collapsed": true
   },
   "outputs": [],
   "source": []
  }
 ],
 "metadata": {
  "kernelspec": {
   "display_name": "Python 2",
   "language": "python",
   "name": "python2"
  },
  "language_info": {
   "codemirror_mode": {
    "name": "ipython",
    "version": 2
   },
   "file_extension": ".py",
   "mimetype": "text/x-python",
   "name": "python",
   "nbconvert_exporter": "python",
   "pygments_lexer": "ipython2",
   "version": "2.7.6"
  }
 },
 "nbformat": 4,
 "nbformat_minor": 1
}
